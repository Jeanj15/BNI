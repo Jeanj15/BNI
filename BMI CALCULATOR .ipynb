{
 "cells": [
  {
   "cell_type": "code",
   "execution_count": 4,
   "id": "dab94780",
   "metadata": {},
   "outputs": [
    {
     "name": "stdout",
     "output_type": "stream",
     "text": [
      "you are morbidly obese\n"
     ]
    }
   ],
   "source": [
    "if bmi>0:\n",
    "    if(bmi<18.5):\n",
    "        print(\"you are underweight\")\n",
    "    elif(bmi<=24.9):\n",
    "        print(\"you are normal weight\")\n",
    "    elif(bmi<29.9):\n",
    "        print(\"you are overweight \")\n",
    "    elif(bmi<34.9):\n",
    "        print(\"you are overweight \")\n",
    "    elif(bmi<39.9):\n",
    "        print(\"you are overweight \")\n",
    "    else:\n",
    "        print(\"you are morbidly obese\")\n",
    "    \n",
    "else: \n",
    "    print('enter a valid input ')\n",
    "\n",
    "\n",
    "    \n"
   ]
  },
  {
   "cell_type": "code",
   "execution_count": 3,
   "id": "2f23fc44",
   "metadata": {},
   "outputs": [
    {
     "name": "stdout",
     "output_type": "stream",
     "text": [
      "Enter your weight in pounds:162\n",
      "Enter your height in inces:52\n"
     ]
    }
   ],
   "source": [
    "#buidling a bmi calculator \n",
    "\n",
    "weight = int(input(\"Enter your weight in pounds:\"))\n",
    "height = int(input(\"Enter your height in inces:\"))\n",
    "bmi = (weight * 703)/(height *height) \n"
   ]
  },
  {
   "cell_type": "code",
   "execution_count": null,
   "id": "998f0f5a",
   "metadata": {},
   "outputs": [],
   "source": []
  },
  {
   "cell_type": "code",
   "execution_count": null,
   "id": "5e2e04a6",
   "metadata": {},
   "outputs": [],
   "source": []
  },
  {
   "cell_type": "code",
   "execution_count": null,
   "id": "968d3980",
   "metadata": {},
   "outputs": [],
   "source": []
  }
 ],
 "metadata": {
  "kernelspec": {
   "display_name": "Python 3 (ipykernel)",
   "language": "python",
   "name": "python3"
  },
  "language_info": {
   "codemirror_mode": {
    "name": "ipython",
    "version": 3
   },
   "file_extension": ".py",
   "mimetype": "text/x-python",
   "name": "python",
   "nbconvert_exporter": "python",
   "pygments_lexer": "ipython3",
   "version": "3.10.9"
  }
 },
 "nbformat": 4,
 "nbformat_minor": 5
}
